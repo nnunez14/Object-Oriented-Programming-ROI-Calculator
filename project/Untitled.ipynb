{
 "cells": [
  {
   "cell_type": "code",
   "execution_count": null,
   "id": "879f878d",
   "metadata": {},
   "outputs": [
    {
     "name": "stdout",
     "output_type": "stream",
     "text": [
      "Thank you for choosing Running On Investments. Let's get started calculating your return on investment.\n"
     ]
    }
   ],
   "source": [
    "class roi():\n",
    "    \n",
    "    def __init__(self):\n",
    "        self.investments = 0\n",
    "        self.expenses = 0\n",
    "        \n",
    "    # This area gathers the customers monthly expenses\n",
    "    def monthly_expenses(self):\n",
    "        print('Please enter your following monthly expenses to get started on your return on invenstment: ')\n",
    "        mortgage = float(input('How much do you spend on your monthly mortgage? $ '))\n",
    "        taxes = float(input('How much do you pay in property taxes per month? $ '))\n",
    "        insurance = float(input('How much do you spend on insurance per month? $ '))\n",
    "        repairs = float(input('What are your monthly repairs? $ '))\n",
    "        property_management = float(input('How much do you spend on property management? $ '))\n",
    "        room = float(input('How much do you spend per room? $ '))\n",
    "        self.expenses = mortgage + taxes + insurance + repairs + property_management + room     \n",
    "    \n",
    "    # This area gathers the customers investments into the property\n",
    "    def investment_expenses(self):\n",
    "        print('Please enter the following information to determine your total investments on the property:')\n",
    "        down_payment = float(input('What was your down payment for the property? $ '))\n",
    "        closing_cost = float(input('What were your closing costs for this property? $ '))\n",
    "        rehab_budget = float(input('What was your total Rehab Budget? $ '))\n",
    "        self.investments = down_payment + closing_cost + rehab_budget\n",
    "    \n",
    "    \n",
    "    # This area calculatesthe total return on investment\n",
    "    def total_calculation(self):\n",
    "        rental_income = float(input('Please enter your monthly income: $ '))\n",
    "        cashflow = rental_income - self.expenses\n",
    "        roi_calc = ((cashflow * 12)/ self.investments) * 100\n",
    "        print(f'Here is your yearly return on investment: {roi_calc}')\n",
    "    \n",
    "    \n",
    "    # This section either runs through the entire process, tells the customer to have a nice day, \n",
    "    # or informs the customer that their response is invalid and to try again.    \n",
    "    def roi_run(self):\n",
    "        print(\"Thank you for choosing Running On Investments. Let's get started calculating your return on investment.\")\n",
    "        while True: \n",
    "            roi = input('Enter yes to enter information for a property. Enter no if you are finished using our roi calculator tool.')\n",
    "            if roi.lower() == 'no':\n",
    "                print('Thank you for choosing Running On Investments! Have a nice day!')\n",
    "                break\n",
    "                \n",
    "            elif roi.lower() == 'yes':\n",
    "                print(\"Excellent! Let's get started.\")\n",
    "                self.monthly_expenses()\n",
    "                self.investment_expenses()\n",
    "                self.total_calculation() \n",
    "                \n",
    "            else:\n",
    "                print(\"Your response was invalid. Please enter 'yes' or 'no' to get started.\")\n",
    "\n",
    "# This section sets a variable to our class and runs the operation                \n",
    "roi_calculator = roi()\n",
    "roi_calculator.roi_run()\n"
   ]
  },
  {
   "cell_type": "code",
   "execution_count": null,
   "id": "b9eb3070",
   "metadata": {},
   "outputs": [],
   "source": []
  },
  {
   "cell_type": "code",
   "execution_count": null,
   "id": "12aea39f",
   "metadata": {},
   "outputs": [],
   "source": []
  }
 ],
 "metadata": {
  "kernelspec": {
   "display_name": "Python 3",
   "language": "python",
   "name": "python3"
  },
  "language_info": {
   "codemirror_mode": {
    "name": "ipython",
    "version": 3
   },
   "file_extension": ".py",
   "mimetype": "text/x-python",
   "name": "python",
   "nbconvert_exporter": "python",
   "pygments_lexer": "ipython3",
   "version": "3.8.8"
  }
 },
 "nbformat": 4,
 "nbformat_minor": 5
}
